{
 "cells": [
  {
   "cell_type": "markdown",
   "metadata": {},
   "source": [
    "# Loss Functions"
   ]
  },
  {
   "cell_type": "code",
   "execution_count": 3,
   "metadata": {},
   "outputs": [],
   "source": [
    "class Loss:\n",
    "    def __init__(self, L2 = 'False', lamb = 1):\n",
    "        self.lamb = lamb\n",
    "        self.L2 = L2\n",
    "        \n",
    "class Quadratic(Loss):\n",
    "    def __init__(self, L2 = 'False', lamb = 1):\n",
    "        self.lamb = lamb\n",
    "        self.L2 = L2\n",
    "\n",
    "class Exponential(Loss):\n",
    "    def __init__(self, L2 = 'False', lamb = 1):\n",
    "        self.lamb = lamb\n",
    "        self.L2 = L2\n",
    "            \n",
    "class Hinge(Loss):    \n",
    "    def __init__(self, L2 = 'False', lamb = 1):\n",
    "        self.lamb = lamb\n",
    "        self.L2 = L2\n",
    "\n",
    "class Smooth_hinge(Loss):  \n",
    "    def __init__(self, L2 = 'False', lamb = 1):\n",
    "        self.lamb = lamb\n",
    "        self.L2 = L2"
   ]
  },
  {
   "cell_type": "markdown",
   "metadata": {},
   "source": [
    "# Gradient Descent Algorithms"
   ]
  },
  {
   "cell_type": "code",
   "execution_count": 1,
   "metadata": {},
   "outputs": [],
   "source": [
    "import numpy as np\n",
    "\n",
    "class BaseOptimizer:\n",
    "    \"\"\" \n",
    "    Abstract optimizer base class\n",
    "    \"\"\"\n",
    "\n",
    "    def __init__(self, learning_rate=0.1):\n",
    "        self.learning_rate = learning_rate\n",
    "        \n",
    "    def get_gradients(self, loss, X, y, params):\n",
    "        \n",
    "        n = len(y)\n",
    "        gradient = np.zeros_like(X[0])\n",
    "        \n",
    "        if isinstance(loss, Quadratic):\n",
    "            if loss.L2 == 'False':\n",
    "                gradient = sum(y[i]*X[i]*(y[i]*X[i].T@params - 1) for i in range(n))\n",
    "                return 2*gradient/n\n",
    "            else: return 2*gradient/n + 2*loss.lamb*params/n\n",
    "            \n",
    "        elif isinstance(loss, Exponential):\n",
    "            if loss.L2 == 'False':\n",
    "                gradient = sum(-np.exp(-X[i].T@params)*X[i] for i in range(n))\n",
    "                return 2*gradient/n\n",
    "            else: return 2*gradient/n + 2*loss.lamb*params/n\n",
    "            \n",
    "        elif isinstance(loss, Hinge):\n",
    "            if loss.L2 == 'False':\n",
    "                gradient = sum(-y[i]*X[i] for i in range(n) if y[i]*X[i].T@params < 1)\n",
    "                return gradient/n\n",
    "            else: return gradient/n + 2*loss.lamb*params/n\n",
    "            \n",
    "        elif isinstance(loss, Smooth_hinge):\n",
    "            if loss.L2 == 'False':\n",
    "                for i in range(n):\n",
    "                    if y[i]*X[i].T@params <= 0:\n",
    "                        gradient += -y[i]*X[i]\n",
    "                    elif y[i]*X[i].T@params < 1:\n",
    "                        gradient += 2*y[i]*X[i]*(y[i]*X[i].T@params - 1)\n",
    "                return gradient/n\n",
    "            else: return gradient/n + 2*loss.lamb*params/n\n",
    "    \n",
    "    def get_updates(self, loss, X, y, params):\n",
    "        raise NotImplementedError\n",
    "\n",
    "\n",
    "class SGD(BaseOptimizer):\n",
    "    \"\"\" \n",
    "    SGD with momentum and nesterov\n",
    "    \"\"\"\n",
    "\n",
    "    def __init__(self, learning_rate=0.01, momentum=0., nesterov=False):\n",
    "        super(SGD, self).__init__(learning_rate)\n",
    "        self.momentum = momentum\n",
    "        self.nesterov = nesterov\n",
    "        self.velocities = []\n",
    "\n",
    "    def get_updates(self, loss, X, y, params):\n",
    "        if not self.velocities:\n",
    "            self.velocities = [np.zeros_like(p) for p in params]\n",
    "        if self.nesterov:\n",
    "            params_for_grad = [v + p for v, p in zip(self.velocities, params)]\n",
    "        else:\n",
    "            params_for_grad = params\n",
    "            \n",
    "        grads = self.get_gradients(loss, X, y, params_for_grad)\n",
    "\n",
    "        updates = [self.momentum * v - self.learning_rate * g\n",
    "                   for v, g in zip(self.velocities, grads)]\n",
    "\n",
    "        self.velocities = updates\n",
    "\n",
    "        return updates\n",
    "\n",
    "    \n",
    "class Adam(BaseOptimizer):\n",
    "    \"\"\"\n",
    "    Adam optimizer\n",
    "    \"\"\"\n",
    "    def __init__(self, learning_rate_init=0.001, beta_1=0.9, beta_2=0.999, epsilon=1e-8):\n",
    "        super().__init__(learning_rate_init)\n",
    "        self.learning_rate_init = learning_rate_init\n",
    "        self.beta_1 = beta_1\n",
    "        self.beta_2 = beta_2\n",
    "        self.epsilon = epsilon\n",
    "        self.t = 0\n",
    "        self.ms = []\n",
    "        self.vs = []\n",
    "        \n",
    "\n",
    "    def get_updates(self, loss, X, y, params):\n",
    "        \n",
    "        grads = self.get_gradients(loss, X, y, params)\n",
    "        \n",
    "        self.ms = [np.zeros_like(param) for param in params]\n",
    "        self.vs = [np.zeros_like(param) for param in params]\n",
    "        \n",
    "        self.t += 1\n",
    "        self.ms = [self.beta_1 * m + (1 - self.beta_1) * grad\n",
    "                   for m, grad in zip(self.ms, grads)]\n",
    "        self.vs = [self.beta_2 * v + (1 - self.beta_2) * (grad ** 2)\n",
    "                   for v, grad in zip(self.vs, grads)]\n",
    "        self.learning_rate = (self.learning_rate_init *\n",
    "                              np.sqrt(1 - self.beta_2 ** self.t) /\n",
    "                              (1 - self.beta_1 ** self.t))\n",
    "        updates = [-self.learning_rate * m / (np.sqrt(v) + self.epsilon)\n",
    "                   for m, v in zip(self.ms, self.vs)]\n",
    "        return updates\n",
    "\n"
   ]
  },
  {
   "cell_type": "markdown",
   "metadata": {},
   "source": [
    "# Test"
   ]
  },
  {
   "cell_type": "markdown",
   "metadata": {},
   "source": [
    "## Data Simulation"
   ]
  },
  {
   "cell_type": "code",
   "execution_count": null,
   "metadata": {},
   "outputs": [],
   "source": [
    "beta_true = np.random.normal(5,10,2)\n",
    "X = np.random.normal(0, 1, (100,2))\n",
    "eps = np.random.normal(0,1,100)\n",
    "y = 2*(X @ beta_true + eps > 0)-1\n",
    "y"
   ]
  },
  {
   "cell_type": "markdown",
   "metadata": {},
   "source": [
    "## Hinge Loss"
   ]
  },
  {
   "cell_type": "code",
   "execution_count": 10,
   "metadata": {},
   "outputs": [],
   "source": [
    "loss = Hinge('False', 1)"
   ]
  },
  {
   "cell_type": "markdown",
   "metadata": {},
   "source": [
    "## Classical Momentum Gradient Descent"
   ]
  },
  {
   "cell_type": "code",
   "execution_count": 11,
   "metadata": {
    "scrolled": true
   },
   "outputs": [
    {
     "data": {
      "text/plain": [
       "[<matplotlib.lines.Line2D at 0x11fa217f0>]"
      ]
     },
     "execution_count": 11,
     "metadata": {},
     "output_type": "execute_result"
    },
    {
     "data": {
      "image/png": "[encoded data removed]",
      "text/plain": [
       "<Figure size 432x288 with 1 Axes>"
      ]
     },
     "metadata": {
      "needs_background": "light"
     },
     "output_type": "display_data"
    }
   ],
   "source": [
    "import matplotlib.pyplot as plt\n",
    "\n",
    "Op = SGD(momentum=0.9,nesterov=False) \n",
    "params = np.zeros(2)\n",
    "true_rate0 = []\n",
    "T = 1000\n",
    "while T > 0:\n",
    "    updates = Op.get_updates(loss, X, y, params)\n",
    "    params = [p + u for p, u in zip(params, updates)]\n",
    "    y_new = 2*(X @ params + eps > 0)-1\n",
    "    if T % 50 == 0:  \n",
    "        true_rate0.append(sum(y_new == y)/len(y))\n",
    "    T -= 1\n",
    "    \n",
    "plt.plot(true_rate0)"
   ]
  },
  {
   "cell_type": "markdown",
   "metadata": {},
   "source": [
    "## Nesterov's Gradient Descent"
   ]
  },
  {
   "cell_type": "code",
   "execution_count": 12,
   "metadata": {},
   "outputs": [
    {
     "data": {
      "text/plain": [
       "[<matplotlib.lines.Line2D at 0x11fb66128>]"
      ]
     },
     "execution_count": 12,
     "metadata": {},
     "output_type": "execute_result"
    },
    {
     "data": {
      "image/png": "[encoded data removed]",
      "text/plain": [
       "<Figure size 432x288 with 1 Axes>"
      ]
     },
     "metadata": {
      "needs_background": "light"
     },
     "output_type": "display_data"
    }
   ],
   "source": [
    "import matplotlib.pyplot as plt\n",
    "Op = SGD(momentum=0.9,nesterov=True) \n",
    "params = np.zeros(2)\n",
    "true_rate1 = []\n",
    "T = 1000\n",
    "while T > 0:\n",
    "    updates = Op.get_updates(loss, X, y, params)\n",
    "    params = [p + u for p, u in zip(params, updates)]\n",
    "    y_new = 2*(X @ params + eps > 0)-1\n",
    "    if T % 50 == 0:  \n",
    "        true_rate1.append(sum(y_new == y)/len(y))\n",
    "    T -= 1\n",
    "    \n",
    "plt.plot(true_rate1)"
   ]
  },
  {
   "cell_type": "markdown",
   "metadata": {},
   "source": [
    "## Stochaostic Gradient Descent"
   ]
  },
  {
   "cell_type": "code",
   "execution_count": 13,
   "metadata": {},
   "outputs": [
    {
     "data": {
      "text/plain": [
       "[<matplotlib.lines.Line2D at 0x11fbc8048>]"
      ]
     },
     "execution_count": 13,
     "metadata": {},
     "output_type": "execute_result"
    },
    {
     "data": {
      "image/png": "[encoded data removed]",
      "text/plain": [
       "<Figure size 432x288 with 1 Axes>"
      ]
     },
     "metadata": {
      "needs_background": "light"
     },
     "output_type": "display_data"
    }
   ],
   "source": [
    "import matplotlib.pyplot as plt\n",
    "Op = SGD(momentum=0.,nesterov=False)\n",
    "params = np.zeros(2)\n",
    "true_rate2 = []\n",
    "T = 1000\n",
    "while T > 0:\n",
    "    updates = Op.get_updates(loss, X, y, params)\n",
    "    params = [p + u for p, u in zip(params, updates)]\n",
    "    y_new = 2*(X @ params + eps > 0)-1\n",
    "    if T % 50 == 0:  \n",
    "        true_rate2.append(sum(y_new == y)/len(y))\n",
    "    T -= 1\n",
    "    \n",
    "plt.plot(true_rate2)"
   ]
  },
  {
   "cell_type": "markdown",
   "metadata": {},
   "source": [
    "## Adam Gradient Descent"
   ]
  },
  {
   "cell_type": "code",
   "execution_count": 14,
   "metadata": {},
   "outputs": [
    {
     "data": {
      "text/plain": [
       "[<matplotlib.lines.Line2D at 0x11fce50b8>]"
      ]
     },
     "execution_count": 14,
     "metadata": {},
     "output_type": "execute_result"
    },
    {
     "data": {
      "image/png": "[encoded data removed]",
      "text/plain": [
       "<Figure size 432x288 with 1 Axes>"
      ]
     },
     "metadata": {
      "needs_background": "light"
     },
     "output_type": "display_data"
    }
   ],
   "source": [
    "import matplotlib.pyplot as plt\n",
    "Op = Adam()\n",
    "params = np.zeros(2)\n",
    "true_rate3 = []\n",
    "T = 1000\n",
    "while T > 0:\n",
    "    updates = Op.get_updates(loss, X, y, params)\n",
    "    params = [p + u for p, u in zip(params, updates)]\n",
    "    y_new = 2*(X @ params + eps > 0)-1\n",
    "    if T % 50 == 0:  \n",
    "        true_rate3.append(sum(y_new == y)/len(y))\n",
    "    T -= 1\n",
    "    \n",
    "plt.plot(true_rate3)"
   ]
  },
  {
   "cell_type": "markdown",
   "metadata": {},
   "source": [
    "## Comparison"
   ]
  },
  {
   "cell_type": "code",
   "execution_count": 15,
   "metadata": {},
   "outputs": [
    {
     "data": {
      "text/plain": [
       "<matplotlib.legend.Legend at 0x11fdaa748>"
      ]
     },
     "execution_count": 15,
     "metadata": {},
     "output_type": "execute_result"
    },
    {
     "data": {
      "image/png": "[encoded data removed]",
      "text/plain": [
       "<Figure size 432x288 with 1 Axes>"
      ]
     },
     "metadata": {
      "needs_background": "light"
     },
     "output_type": "display_data"
    }
   ],
   "source": [
    "plt.plot(true_rate0)\n",
    "plt.plot(true_rate1)\n",
    "plt.plot(true_rate2)\n",
    "plt.plot(true_rate3)\n",
    "plt.legend(['1', '2', '3', '4'])"
   ]
  },
  {
   "cell_type": "markdown",
   "metadata": {},
   "source": [
    "# Reference\n",
    "\n",
    "Nesterov: https://www.cs.toronto.edu/~fritz/absps/momentum.pdf"
   ]
  },
  {
   "cell_type": "markdown",
   "metadata": {},
   "source": [
    "Adam: https://arxiv.org/abs/1412.6980"
   ]
  }
 ],
 "metadata": {
  "kernelspec": {
   "display_name": "Python 3",
   "language": "python",
   "name": "python3"
  },
  "language_info": {
   "codemirror_mode": {
    "name": "ipython",
    "version": 3
   },
   "file_extension": ".py",
   "mimetype": "text/x-python",
   "name": "python",
   "nbconvert_exporter": "python",
   "pygments_lexer": "ipython3",
   "version": "3.6.9"
  },
  "toc": {
   "base_numbering": 1,
   "nav_menu": {},
   "number_sections": true,
   "sideBar": true,
   "skip_h1_title": false,
   "title_cell": "Table of Contents",
   "title_sidebar": "Contents",
   "toc_cell": false,
   "toc_position": {},
   "toc_section_display": true,
   "toc_window_display": false
  }
 },
 "nbformat": 4,
 "nbformat_minor": 4
}
