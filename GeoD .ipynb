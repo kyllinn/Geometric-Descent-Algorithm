{
 "cells": [
  {
   "cell_type": "code",
   "execution_count": 1,
   "metadata": {},
   "outputs": [],
   "source": [
    "import numpy as np\n",
    "import matplotlib.pyplot as plt\n",
    "import pandas as pd\n",
    "from sklearn import metrics\n",
    "import decimal"
   ]
  },
  {
   "cell_type": "code",
   "execution_count": 2,
   "metadata": {},
   "outputs": [],
   "source": [
    "def Euclidean(x_A, x_B):\n",
    "    return np.linalg.norm(np.array(x_A)-np.array(x_B))\n",
    "def Minimum_enclosing(x_A, x_B, R_A, R_B):\n",
    "    x_A = np.array(x_A)\n",
    "    x_B = np.array(x_B)\n",
    "    if Euclidean(x_A, x_B)**2 >= abs(R_A**2 - R_B**2):\n",
    "        c = (x_A + x_B)/2 - (x_A - x_B) * (R_A**2 - R_B**2)/(2 * (Euclidean(x_A, x_B)**2))\n",
    "        R2 = R_B**2 - (Euclidean(x_A, x_B)**2 + R_B**2 - R_A**2)**2/(4 * Euclidean(x_A, x_B)**2)\n",
    "        R = np.sqrt(R2)\n",
    "    elif Euclidean(x_A, x_B)**2 < R_A**2 - R_B**2:\n",
    "        c, R = x_B, R_B\n",
    "    else: c, R = x_A, R_A\n",
    "    return c, R"
   ]
  },
  {
   "cell_type": "code",
   "execution_count": 3,
   "metadata": {},
   "outputs": [],
   "source": [
    "x1 = np.random.normal(0,3,500)\n",
    "x2 = (np.random.normal(1,2,500))**2\n",
    "epsilon = np.random.normal(0,1,500)\n",
    "y = 1.5 + 2*x1 + x2 + epsilon\n",
    "Xdesign = np.vstack((np.ones(500),x1,x2)).T"
   ]
  },
  {
   "cell_type": "code",
   "execution_count": 4,
   "metadata": {},
   "outputs": [],
   "source": [
    "from sklearn.linear_model import LinearRegression\n",
    "import pandas as pd "
   ]
  },
  {
   "cell_type": "code",
   "execution_count": 5,
   "metadata": {},
   "outputs": [
    {
     "data": {
      "text/plain": [
       "array([2.01485106, 0.9989952 ])"
      ]
     },
     "execution_count": 5,
     "metadata": {},
     "output_type": "execute_result"
    }
   ],
   "source": [
    "X = np.vstack((x1,x2)).T\n",
    "lr1 = LinearRegression()\n",
    "lr1.fit(X,y)  \n",
    "lr1.coef_"
   ]
  },
  {
   "cell_type": "code",
   "execution_count": 6,
   "metadata": {},
   "outputs": [],
   "source": [
    "x = []\n",
    "x.append(np.array([[0, 0, 0]]).T)  \n",
    "T = 1000\n",
    "alpha = 3\n",
    "##Alogorithm to calculate the gradient of the convex function at point x\n",
    "##t(X)%*%(X%*%beta-y)\n",
    "def grad_f(x):\n",
    "    grad_x = Xdesign.T@(Xdesign@x-(np.array([y]).T))  \n",
    "    return grad_x  \n",
    "##Algorithm to calculate the convex function value at point x\n",
    "def cv_f(x):  \n",
    "    f_x = ((np.array([y]).T)-Xdesign@x).T@((np.array([y]).T)-Xdesign@x)\n",
    "    return f_x[0,0]"
   ]
  },
  {
   "cell_type": "code",
   "execution_count": 7,
   "metadata": {},
   "outputs": [],
   "source": [
    "##Algorithm to conduct line search between 2 points in n-dimension space\n",
    "def ln_search(x,y):\n",
    "    searchpoll = np.linspace(2*np.array(x)-np.array(y),np.array(y),T)\n",
    "    f_poll = []\n",
    "    for i in range(len(searchpoll)):\n",
    "        f_poll.append(cv_f(searchpoll[i]))  \n",
    "    minsearch1 = min(f_poll)\n",
    "    index = np.where(f_poll == minsearch1)\n",
    "    return searchpoll[index][0]"
   ]
  },
  {
   "cell_type": "code",
   "execution_count": 10,
   "metadata": {},
   "outputs": [
    {
     "name": "stderr",
     "output_type": "stream",
     "text": [
      "D:\\ANOCA\\lib\\site-packages\\ipykernel_launcher.py:9: RuntimeWarning: invalid value encountered in sqrt\n",
      "  if __name__ == '__main__':\n"
     ]
    },
    {
     "data": {
      "text/plain": [
       "array([[1.50342643],\n",
       "       [2.01585635],\n",
       "       [0.9992129 ]])"
      ]
     },
     "execution_count": 10,
     "metadata": {},
     "output_type": "execute_result"
    }
   ],
   "source": [
    "##Initialize the ball parameter\n",
    "xplus = []\n",
    "c = []\n",
    "R2 = []\n",
    "xplus.append(ln_search(x[0], x[0] - grad_f(x[0])))\n",
    "c.append(x[0] - 1/alpha*grad_f(x[0]))\n",
    "R2.append((np.linalg.norm(grad_f(x[0]))/alpha)**2 - 2/alpha*(cv_f(x[0])-cv_f(xplus[0])))\n",
    "##Algorithm for GeoD which take in the initial ball parameters and output the final ball parameters after T iterations\n",
    "for j in range(700):\n",
    "    x.append(ln_search(xplus[j], c[j]))\n",
    "    xplus.append(ln_search(x[j+1], x[j+1] - grad_f(x[j+1]))) \n",
    "    x_A = x[j+1] - 1/alpha*grad_f(x[j+1])  \n",
    "    R2_A = (np.linalg.norm(grad_f(x[j+1]))/alpha)**2 - 2/alpha*(cv_f(x[j+1])-cv_f(xplus[j+1]))\n",
    "    x_B = c[j]  \n",
    "    R2_B = R2[j] - 2/alpha*(cv_f(x[j])-cv_f(xplus[j+1]))  \n",
    "    c.append(Minimum_enclosing(x_A, x_B, R2_A, R2_B)[0])\n",
    "    R2.append(Minimum_enclosing(x_A, x_B, R2_A, R2_B)[1])                                                                    \n",
    "\n",
    "x[700]"
   ]
  },
  {
   "cell_type": "code",
   "execution_count": null,
   "metadata": {},
   "outputs": [],
   "source": []
  }
 ],
 "metadata": {
  "kernelspec": {
   "display_name": "Python 3",
   "language": "python",
   "name": "python3"
  },
  "language_info": {
   "codemirror_mode": {
    "name": "ipython",
    "version": 3
   },
   "file_extension": ".py",
   "mimetype": "text/x-python",
   "name": "python",
   "nbconvert_exporter": "python",
   "pygments_lexer": "ipython3",
   "version": "3.7.6"
  }
 },
 "nbformat": 4,
 "nbformat_minor": 4
}
