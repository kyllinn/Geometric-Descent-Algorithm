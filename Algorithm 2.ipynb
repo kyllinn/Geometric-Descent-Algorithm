{
 "cells": [
  {
   "cell_type": "code",
   "execution_count": 1,
   "metadata": {},
   "outputs": [],
   "source": [
    "import numpy as np\n",
    "import matplotlib.pyplot as plt\n",
    "import pandas as pd\n",
    "from sklearn import metrics\n",
    "import decimal"
   ]
  },
  {
   "cell_type": "code",
   "execution_count": 10,
   "metadata": {},
   "outputs": [],
   "source": [
    "x_0 = [0]*5  \n",
    "T = 1000\n",
    "alpha = 3\n",
    "##Alogorithm to calculate the gradient of the convex function at point x\n",
    "def grad_f(x):\n",
    "    grad_coef = [0]*5\n",
    "    grad_x = np.inner(x,grad_coef)  \n",
    "    return grad_x  \n",
    "##Algorithm to calculate the convex function value at point x\n",
    "def cv_f(x):  \n",
    "    cv_coef = [0]*5\n",
    "    f_x = np.inner(x,cv_coef)\n",
    "    return f_x"
   ]
  },
  {
   "cell_type": "code",
   "execution_count": 8,
   "metadata": {},
   "outputs": [],
   "source": [
    "##Algorithm to conduct line search between 2 points in n-dimension space\n",
    "def ln_search(x,y):\n",
    "    searchpoll = np.linspace(2*x-y,y,T)\n",
    "    f_poll = []\n",
    "    for i in range(len(searchpoll)):\n",
    "        f_poll.append(cv_f(searchpoll[i]))  \n",
    "    minsearch1 = min(f_poll)\n",
    "    index = np.where(f_poll == minsearch1)\n",
    "    return searchpoll[index]"
   ]
  },
  {
   "cell_type": "code",
   "execution_count": 28,
   "metadata": {},
   "outputs": [
    {
     "ename": "SyntaxError",
     "evalue": "invalid syntax (<ipython-input-28-e1cd45f5e708>, line 15)",
     "output_type": "error",
     "traceback": [
      "\u001b[1;36m  File \u001b[1;32m\"<ipython-input-28-e1cd45f5e708>\"\u001b[1;36m, line \u001b[1;32m15\u001b[0m\n\u001b[1;33m    c_j, R2_j = enclosingball(x_A, R2_A, x_B, R2_B)\u001b[0m\n\u001b[1;37m      ^\u001b[0m\n\u001b[1;31mSyntaxError\u001b[0m\u001b[1;31m:\u001b[0m invalid syntax\n"
     ]
    }
   ],
   "source": [
    "##Initialize the ball parameter\n",
    "xplus_0 = ln_search(x_0, x_0 - grad_f(x_0))\n",
    "c_0 = x_0 - 1/alpha*grad_f(x_0)\n",
    "R2_0 = (grad_f(x_0)/alpha)**2 - 2/alpha*(cv_f(x_0)-cv_f(xplus_0)) \n",
    "##Algorithm for GeoD which take in the initial ball parameters and output the final ball parameters after T iterations\n",
    "def GeoD(xplus_0, c_0, R2_0):  \n",
    "    for j in list(range(1,T+1)):\n",
    "        ##Combining Step  \n",
    "        x_j = ln_search(xplus_j-1, c_j-1)\n",
    "        ##Gradient Step  \n",
    "        xplus_j = ln_search(x_j, x_j - grad_f(x_j))\n",
    "        ##Ellipsoid Step  \n",
    "        x_A = x_j - 1/alpha*grad_f(x_j)  \n",
    "        R2_A = (grad_f(x_j)/alpha)**2 - 2/alpha*(cv_f(x_j)-cv_f(xplus_j))\n",
    "        x_B = c_j-1  \n",
    "        R2_B = R2_j-1 - 2/alpha*(cv_f(x_j-1-cv_f(xplus_j))  \n",
    "        c_j, R2_j = enclosingball(x_A, R2_A, x_B, R2_B)  \n",
    "    return x_T"
   ]
  },
  {
   "cell_type": "code",
   "execution_count": null,
   "metadata": {},
   "outputs": [],
   "source": []
  }
 ],
 "metadata": {
  "kernelspec": {
   "display_name": "Python 3",
   "language": "python",
   "name": "python3"
  },
  "language_info": {
   "codemirror_mode": {
    "name": "ipython",
    "version": 3
   },
   "file_extension": ".py",
   "mimetype": "text/x-python",
   "name": "python",
   "nbconvert_exporter": "python",
   "pygments_lexer": "ipython3",
   "version": "3.7.6"
  }
 },
 "nbformat": 4,
 "nbformat_minor": 4
}
